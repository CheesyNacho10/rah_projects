{
 "cells": [
  {
   "cell_type": "code",
   "execution_count": 1,
   "id": "7d685864",
   "metadata": {
    "collapsed": false,
    "execution": {
     "iopub.execute_input": "2023-11-30T22:33:09.508383Z",
     "iopub.status.busy": "2023-11-30T22:33:09.508164Z",
     "iopub.status.idle": "2023-11-30T22:33:11.248560Z",
     "shell.execute_reply": "2023-11-30T22:33:11.247978Z"
    }
   },
   "outputs": [],
   "source": [
    "import os,sys, torchaudio, torch\n",
    "import scipy.signal\n",
    "import numpy as np\n",
    "import matplotlib.pyplot as plt\n",
    "import matplotlib\n",
    "\n",
    "wav = 'datasets/data1/train/train_00001_m_01_0.wav'"
   ]
  },
  {
   "cell_type": "markdown",
   "id": "ec43f9c3",
   "metadata": {},
   "source": [
    "# Waveform\n",
    "\n",
    "Read and plot the waveform of a wav file."
   ]
  },
  {
   "cell_type": "code",
   "execution_count": 5,
   "id": "336a13df",
   "metadata": {
    "collapsed": false,
    "execution": {
     "iopub.execute_input": "2023-11-30T22:33:11.250965Z",
     "iopub.status.busy": "2023-11-30T22:33:11.250756Z",
     "iopub.status.idle": "2023-11-30T22:33:11.322142Z",
     "shell.execute_reply": "2023-11-30T22:33:11.319672Z"
    }
   },
   "outputs": [
    {
     "name": "stdout",
     "output_type": "stream",
     "text": [
      "torch.Size([1, 10403])\n"
     ]
    }
   ],
   "source": [
    "x, fs = torchaudio.load(wav)\n",
    "print(x.shape)\n",
    "os.makedirs('out', exist_ok=True)\n",
    "torchaudio.save('out/waveform.wav', x, fs)"
   ]
  },
  {
   "cell_type": "markdown",
   "id": "929b7912",
   "metadata": {},
   "source": [
    "# Noise augmentation\n",
    "\n",
    "Add noise to the waveform with a snr of 5dB."
   ]
  },
  {
   "cell_type": "code",
   "execution_count": 6,
   "id": "7146e8bf",
   "metadata": {
    "collapsed": false,
    "execution": {
     "iopub.execute_input": "2023-11-30T22:33:11.329492Z",
     "iopub.status.busy": "2023-11-30T22:33:11.329329Z",
     "iopub.status.idle": "2023-11-30T22:33:11.407388Z",
     "shell.execute_reply": "2023-11-30T22:33:11.405101Z"
    }
   },
   "outputs": [
    {
     "name": "stdout",
     "output_type": "stream",
     "text": [
      "tensor(2.3474e-05) tensor(0.0481)\n",
      "10403 10403\n",
      "tensor(2.3474e-05) tensor(7.4231e-06) tensor(5.0000)\n"
     ]
    }
   ],
   "source": [
    "n, fs2 = torchaudio.load('datasets/musan_small/music_small/music-jamendo-0090.wav')\n",
    "assert fs == fs2\n",
    "\n",
    "t0 = np.random.randint(0, n.shape[1] - x.shape[1])\n",
    "n = n[:, t0:t0+x.shape[1]]\n",
    "\n",
    "p_x = x.std()**2\n",
    "p_n = n.std()**2\n",
    "print(p_x, p_n)\n",
    "print(len(x[0].numpy()), len(n[0].numpy()))\n",
    "snr = 5\n",
    "\n",
    "\n",
    "n = n * np.sqrt(p_x/p_n) * np.power(10, -snr/20)\n",
    "\n",
    "p_x = x.std()**2\n",
    "p_n = n.std()**2\n",
    "print(p_x, p_n, 10*np.log10(p_x/p_n))\n",
    "x_n = x + n\n",
    "\n",
    "torchaudio.save('out/waveform_noise.wav', x_n, fs)"
   ]
  },
  {
   "cell_type": "markdown",
   "id": "4d318df6",
   "metadata": {},
   "source": [
    "# RIR augmentation\n",
    "\n",
    "Add a room impulse response (RIR) to the waveform."
   ]
  },
  {
   "cell_type": "code",
   "execution_count": 7,
   "id": "964015c6",
   "metadata": {
    "collapsed": false,
    "execution": {
     "iopub.execute_input": "2023-11-30T22:33:11.417268Z",
     "iopub.status.busy": "2023-11-30T22:33:11.416502Z",
     "iopub.status.idle": "2023-11-30T22:33:11.622486Z",
     "shell.execute_reply": "2023-11-30T22:33:11.621960Z"
    }
   },
   "outputs": [
    {
     "name": "stdout",
     "output_type": "stream",
     "text": [
      "(16000,) 16000\n"
     ]
    },
    {
     "data": {
      "image/png": "[encoded data removed]",
      "text/plain": [
       "<Figure size 640x480 with 1 Axes>"
      ]
     },
     "metadata": {},
     "output_type": "display_data"
    }
   ],
   "source": [
    "h, fs2 = torchaudio.load('datasets/RIRS_NOISES_small/simulated_rirs_small/mediumroom_Room030-00003.wav')\n",
    "h = h[0].numpy()\n",
    "h = h / np.max(np.abs(h))\n",
    "\n",
    "print(h.shape, fs2)\n",
    "assert fs == fs2\n",
    "\n",
    "plt.clf()\n",
    "plt.plot(h)\n",
    "\n",
    "\n",
    "x_h = scipy.signal.convolve(x[0].numpy(), h)\n",
    "\n",
    "torchaudio.save('out/waveform_rir1.wav', torch.tensor(x_h)[None,...], fs)"
   ]
  },
  {
   "cell_type": "markdown",
   "id": "2308f531",
   "metadata": {},
   "source": [
    "RIR augmentation: simulator\n",
    "\n",
    "Add a room impulse response (RIR) to the waveform using a room simulator.\n",
    "https://pyroomacoustics.readthedocs.io/en/pypi-release/pyroomacoustics.room.html"
   ]
  },
  {
   "cell_type": "code",
   "execution_count": 8,
   "id": "d96c7d12",
   "metadata": {
    "collapsed": false,
    "execution": {
     "iopub.execute_input": "2023-11-30T22:33:11.624557Z",
     "iopub.status.busy": "2023-11-30T22:33:11.624402Z",
     "iopub.status.idle": "2023-11-30T22:33:11.884894Z",
     "shell.execute_reply": "2023-11-30T22:33:11.884354Z"
    }
   },
   "outputs": [
    {
     "data": {
      "image/png": "[encoded data removed]",
      "text/plain": [
       "<Figure size 640x480 with 1 Axes>"
      ]
     },
     "metadata": {},
     "output_type": "display_data"
    }
   ],
   "source": [
    "# os.system('pip install pyroomacoustics')\n",
    "import pyroomacoustics as pra\n",
    "\n",
    "# The desired reverberation time and dimensions of the room\n",
    "rt60_tgt = 0.3  # seconds\n",
    "room_dim = [10, 7.5, 3.5]  # meters\n",
    "\n",
    "# We invert Sabine's formula to obtain the parameters for the ISM simulator\n",
    "e_absorption, max_order = pra.inverse_sabine(rt60_tgt, room_dim)\n",
    "\n",
    "# Create the room\n",
    "room = pra.ShoeBox(\n",
    "    room_dim, fs=fs, materials=pra.Material(e_absorption), max_order=max_order\n",
    ")\n",
    "\n",
    "# place the source in the room\n",
    "room.add_source([2.5, 3.73, 1.76], signal=x[0].numpy(), delay=0.5)\n",
    "\n",
    "# define the locations of the microphones\n",
    "mic_locs = np.c_[\n",
    "    [6.3, 4.87, 1.2], [6.3, 4.93, 1.2],  # mic 1  # mic 2\n",
    "]\n",
    "\n",
    "# finally place the array in the room\n",
    "room.add_microphone_array(mic_locs)\n",
    "\n",
    "# Run the simulation (this will also build the RIR automatically)\n",
    "room.simulate()\n",
    "h = room.rir[1][0]\n",
    "h = h / np.max(np.abs(h))\n",
    "\n",
    "plt.clf()\n",
    "plt.plot(h)\n",
    "\n",
    "x_h = scipy.signal.convolve(x[0].numpy(), h)\n",
    "\n",
    "torchaudio.save('out/waveform_rir2.wav', torch.tensor(x_h)[None,...].float(), fs)"
   ]
  }
 ],
 "metadata": {
  "kernelspec": {
   "display_name": ".venv",
   "language": "python",
   "name": "python3"
  },
  "language_info": {
   "codemirror_mode": {
    "name": "ipython",
    "version": 3
   },
   "file_extension": ".py",
   "mimetype": "text/x-python",
   "name": "python",
   "nbconvert_exporter": "python",
   "pygments_lexer": "ipython3",
   "version": "3.10.12"
  }
 },
 "nbformat": 4,
 "nbformat_minor": 5
}
